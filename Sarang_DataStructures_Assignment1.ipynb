{
 "cells": [
  {
   "cell_type": "markdown",
   "metadata": {},
   "source": [
    "# Searching for duplicates in a list"
   ]
  },
  {
   "cell_type": "markdown",
   "metadata": {},
   "source": [
    "Brute Force Method"
   ]
  },
  {
   "cell_type": "code",
   "execution_count": 65,
   "metadata": {},
   "outputs": [
    {
     "name": "stdout",
     "output_type": "stream",
     "text": [
      "True\n",
      "False\n"
     ]
    }
   ],
   "source": [
    "def Duplicate(l1):\n",
    "    size = len(l1)  \n",
    "    for i in range(size): \n",
    "        for j in range(i+1, size): \n",
    "            if l1[i] == l1[j]:\n",
    "                return True\n",
    "    return False\n",
    "  \n",
    "list1 = [1,2,3,2,4,7,4,5,1,8] \n",
    "print(Duplicate(list1))\n",
    "list2 = [1,2,3] \n",
    "print(Duplicate(list2))\n",
    "\n",
    "# T -> O(n^2), S -> O(1)"
   ]
  },
  {
   "cell_type": "markdown",
   "metadata": {},
   "source": [
    "Sorting"
   ]
  },
  {
   "cell_type": "code",
   "execution_count": 66,
   "metadata": {},
   "outputs": [
    {
     "name": "stdout",
     "output_type": "stream",
     "text": [
      "True\n",
      "False\n"
     ]
    }
   ],
   "source": [
    "def Duplicate(l1):\n",
    "    l1.sort()\n",
    "    for i in range(len(l1)-1):\n",
    "        if l1[i] == l1[i+1]:\n",
    "            return True\n",
    "    return False\n",
    "\n",
    "list1 = [1,2,3,2,4,7,4,5,1,8]\n",
    "print(Duplicate(list1))\n",
    "list2 = [1,2,3] \n",
    "print(Duplicate(list2))\n",
    "\n",
    "# T -> O(nlogn + n), S -> O(1)"
   ]
  },
  {
   "cell_type": "markdown",
   "metadata": {},
   "source": [
    "Hashing"
   ]
  },
  {
   "cell_type": "code",
   "execution_count": 67,
   "metadata": {},
   "outputs": [
    {
     "name": "stdout",
     "output_type": "stream",
     "text": [
      "True\n",
      "False\n"
     ]
    }
   ],
   "source": [
    "def Duplicate(l1):\n",
    "    d1 = {}\n",
    "    for i in l1:\n",
    "        if i not in d1:\n",
    "            d1[i] = 1\n",
    "        else:\n",
    "            return True\n",
    "    return False\n",
    "\n",
    "list1 = [1,2,3,2,4,7,4,5,1,8]\n",
    "print(Duplicate(list1))\n",
    "list2 = [1,2,3] \n",
    "print(Duplicate(list2))\n",
    "\n",
    "# T -> O(n), S -> O(n)"
   ]
  },
  {
   "cell_type": "markdown",
   "metadata": {},
   "source": [
    "Negation Algorithm"
   ]
  },
  {
   "cell_type": "code",
   "execution_count": 72,
   "metadata": {},
   "outputs": [
    {
     "name": "stdout",
     "output_type": "stream",
     "text": [
      "True\n"
     ]
    }
   ],
   "source": [
    "def Duplicate(l1):\n",
    "    for i in range(len(l1)):\n",
    "        if l1[abs(l1[i])] <= 0:\n",
    "            return True\n",
    "        else:\n",
    "            l1[abs(l1[i])] *= -1\n",
    "    return False\n",
    "\n",
    "list1 = [1,2,3,2,4,7,4,5,1,8]\n",
    "print(Duplicate(list1))    "
   ]
  },
  {
   "cell_type": "markdown",
   "metadata": {},
   "source": [
    "# Finding element repeated maximum times "
   ]
  },
  {
   "cell_type": "markdown",
   "metadata": {},
   "source": [
    "Brute Force Method"
   ]
  },
  {
   "cell_type": "code",
   "execution_count": 75,
   "metadata": {},
   "outputs": [
    {
     "name": "stdout",
     "output_type": "stream",
     "text": [
      "5\n"
     ]
    }
   ],
   "source": [
    "def maxRepeated(a1):\n",
    "    max_freq = 0\n",
    "    for i in range(len(a1)):\n",
    "        count = 1\n",
    "        for j in range(i + 1, len(a1)):\n",
    "            if a1[i] == a1[j]:\n",
    "                count += 1\n",
    "        if count > max_freq:\n",
    "            max_count = count\n",
    "            value = a1[i]\n",
    "    return value\n",
    "\n",
    "a1 = [3,5,1,2,5,9,13,5]\n",
    "print(maxRepeated(a1))\n",
    "\n",
    "# T -> O(n^2), S -> O(1)"
   ]
  },
  {
   "cell_type": "markdown",
   "metadata": {},
   "source": [
    "Sorting"
   ]
  },
  {
   "cell_type": "code",
   "execution_count": 77,
   "metadata": {},
   "outputs": [
    {
     "name": "stdout",
     "output_type": "stream",
     "text": [
      "5\n"
     ]
    }
   ],
   "source": [
    "def maxRepeated(a1):\n",
    "    #Sort the array\n",
    "    a1.sort()\n",
    "    count = 1\n",
    "    max_count = 1\n",
    "    result = a1[0]\n",
    "    \n",
    "    #Linear traversal over array\n",
    "    for i in range(1, len(a1)):\n",
    "        if a1[i] == a1[i - 1]:\n",
    "            count += 1\n",
    "        else:\n",
    "            if count > max_count:\n",
    "                max_count = count\n",
    "                result = a1[i - 1]\n",
    "            \n",
    "            count = 1\n",
    "            \n",
    "    #Check whether last val is most frequent        \n",
    "    if count > max_count:\n",
    "        max_count = count\n",
    "        result = a1[len(a1) - 1]\n",
    "        \n",
    "    return result\n",
    "\n",
    "a1 = [3,5,1,2,5,9,13,5]\n",
    "print(maxRepeated(a1))\n",
    "\n",
    "# T -> O(nlogn), S -> O(1)"
   ]
  },
  {
   "cell_type": "markdown",
   "metadata": {},
   "source": [
    "Hashing"
   ]
  },
  {
   "cell_type": "code",
   "execution_count": 80,
   "metadata": {},
   "outputs": [
    {
     "name": "stdout",
     "output_type": "stream",
     "text": [
      "5\n"
     ]
    }
   ],
   "source": [
    "def maxRepeated(a1):\n",
    "    d1 = dict()\n",
    "    for i in range(len(a1)):\n",
    "        if a1[i] in d1.keys():\n",
    "            d1[a1[i]] += 1\n",
    "        else:\n",
    "            d1[a1[i]] = 1\n",
    "            \n",
    "    max_count = 0\n",
    "    result = -1\n",
    "    for i in d1:\n",
    "        if max_count < d1[i]:\n",
    "            result = i\n",
    "            max_count = d1[i]\n",
    "            \n",
    "    return result\n",
    "\n",
    "a1 = [3,5,1,2,5,9,13,5]\n",
    "print(maxRepeated(a1))\n",
    "\n",
    "# T -> O(n), S -> O(n)"
   ]
  },
  {
   "cell_type": "markdown",
   "metadata": {},
   "source": [
    "Negation"
   ]
  },
  {
   "cell_type": "code",
   "execution_count": 83,
   "metadata": {},
   "outputs": [
    {
     "name": "stdout",
     "output_type": "stream",
     "text": [
      "5\n"
     ]
    }
   ],
   "source": [
    "def maxRepeated(a1, l):\n",
    "    for i in range(len(a1)):\n",
    "        a1[a1[i] % l] += l\n",
    "    \n",
    "    max_value = a1[0]\n",
    "    value = 0\n",
    "    for i in range(1,len(a1)):\n",
    "        if a1[i] > max_value:\n",
    "            max_value = a1[i]\n",
    "            value = i\n",
    "    return value\n",
    "\n",
    "a1 = [3,5,1,2,5,9,13,5]\n",
    "l = len(a1) - 1\n",
    "print(maxRepeated(a1, l))"
   ]
  }
 ],
 "metadata": {
  "kernelspec": {
   "display_name": "Python 3",
   "language": "python",
   "name": "python3"
  },
  "language_info": {
   "codemirror_mode": {
    "name": "ipython",
    "version": 3
   },
   "file_extension": ".py",
   "mimetype": "text/x-python",
   "name": "python",
   "nbconvert_exporter": "python",
   "pygments_lexer": "ipython3",
   "version": "3.7.6"
  }
 },
 "nbformat": 4,
 "nbformat_minor": 4
}
